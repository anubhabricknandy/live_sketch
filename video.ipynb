{
 "cells": [
  {
   "cell_type": "code",
   "execution_count": 1,
   "metadata": {},
   "outputs": [],
   "source": [
    "import cv2\n",
    "import numpy as np"
   ]
  },
  {
   "cell_type": "code",
   "execution_count": 16,
   "metadata": {},
   "outputs": [],
   "source": [
    "res={\"720p\":(1280,720),\"1080p\":(1920,1080),\"4K\":(3840,2160)}\n",
    "\n",
    "cap=cv2.VideoCapture(0)\n",
    "width,height=res[\"720p\"]\n",
    "\n",
    "def convert(frame):\n",
    "    x=cv2.GaussianBlur(frame,(3,3),1)\n",
    "    gray=cv2.cvtColor(frame,cv2.COLOR_BGR2GRAY)\n",
    "    Canny=cv2.Canny(frame,15,70)#change this two values to get clearer image \n",
    "    return Canny\n",
    "\n",
    "cap.set(3,width)\n",
    "cap.set(4,height)\n",
    "while(True):\n",
    "    ret,frame=cap.read()\n",
    "    \n",
    "    can=convert(frame)\n",
    "    cv2.imshow(\"vid\",can)\n",
    "    \n",
    "    \n",
    "    \n",
    "    if cv2.waitKey(1) & 0xFF == ord('q'):\n",
    "        break    \n",
    "cv2.destroyAllWindows()\n",
    "cap.release()"
   ]
  },
  {
   "cell_type": "code",
   "execution_count": null,
   "metadata": {},
   "outputs": [],
   "source": []
  }
 ],
 "metadata": {
  "kernelspec": {
   "display_name": "Python 3",
   "language": "python",
   "name": "python3"
  },
  "language_info": {
   "codemirror_mode": {
    "name": "ipython",
    "version": 3
   },
   "file_extension": ".py",
   "mimetype": "text/x-python",
   "name": "python",
   "nbconvert_exporter": "python",
   "pygments_lexer": "ipython3",
   "version": "3.7.1"
  }
 },
 "nbformat": 4,
 "nbformat_minor": 2
}
